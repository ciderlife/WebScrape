{
 "cells": [
  {
   "cell_type": "code",
   "execution_count": 1,
   "metadata": {
    "collapsed": false
   },
   "outputs": [],
   "source": [
    "import json\n",
    "from bs4 import BeautifulSoup\n",
    "import pandas as pd\n",
    "from selenium import webdriver\n",
    "from selenium.webdriver.common.keys import Keys\n",
    "import requests\n",
    "import time"
   ]
  },
  {
   "cell_type": "code",
   "execution_count": 2,
   "metadata": {
    "collapsed": false
   },
   "outputs": [
    {
     "data": {
      "text/plain": [
       "['2016-06-28 13:52:39,980 - GoogleScraper.caching - INFO - 10 cache files found in .scrapecache/',\n",
       " '2016-06-28 13:52:39,980 - GoogleScraper.caching - INFO - 10/10 objects have been read from the cache. 0 remain to get scraped.']"
      ]
     },
     "execution_count": 2,
     "metadata": {},
     "output_type": "execute_result"
    }
   ],
   "source": [
    "%system GoogleScraper -m http -p 10 -n 50 -q \"should site:answers.yahoo.com\" --output-filename Results/google.json"
   ]
  },
  {
   "cell_type": "markdown",
   "metadata": {},
   "source": [
    "# Open the file\n",
    "We saved the above results into a file **quora_june.json**. We open it up and use the json library to load it into a python list"
   ]
  },
  {
   "cell_type": "code",
   "execution_count": 3,
   "metadata": {
    "collapsed": false
   },
   "outputs": [],
   "source": [
    "with open(\"Results/google.json\", 'r') as f:\n",
    "    data  = json.load(f)"
   ]
  },
  {
   "cell_type": "code",
   "execution_count": 4,
   "metadata": {
    "collapsed": true
   },
   "outputs": [],
   "source": [
    "'''\n",
    "Looks like the results key has a list of length 50\n",
    "Each item in the list is a python dictionary of the all important metadata\n",
    "Lets put all this data into one list. A list of python dictionaries\n",
    "'''\n",
    "\n",
    "all_results = []\n",
    "for d in data:\n",
    "    all_results.extend(d['results'])"
   ]
  },
  {
   "cell_type": "code",
   "execution_count": 5,
   "metadata": {
    "collapsed": false
   },
   "outputs": [
    {
     "data": {
      "text/plain": [
       "500"
      ]
     },
     "execution_count": 5,
     "metadata": {},
     "output_type": "execute_result"
    }
   ],
   "source": [
    "'''\n",
    "We should have 500 pieces of metadata\n",
    "'''\n",
    "len(all_results)"
   ]
  },
  {
   "cell_type": "code",
   "execution_count": 6,
   "metadata": {
    "collapsed": false
   },
   "outputs": [
    {
     "data": {
      "text/plain": [
       "{'domain': 'answers.yahoo.com',\n",
       " 'id': '401',\n",
       " 'link': 'https://answers.yahoo.com/question/index?qid=20100802084437AAEixwf',\n",
       " 'link_type': 'results',\n",
       " 'rank': '1',\n",
       " 'serp_id': '9',\n",
       " 'snippet': \"Aug 2, 2010 - Should the letter be justified. I am looking online but I can't find a sample formated cover letter. ... I feel that letters typed with just the left margin justified look better and are easier to read.\",\n",
       " 'title': 'Should I justify my cover letter? | Yahoo Answers',\n",
       " 'visible_link': 'https://answers.yahoo.com/question/index?qid...'}"
      ]
     },
     "execution_count": 6,
     "metadata": {},
     "output_type": "execute_result"
    }
   ],
   "source": [
    "'''\n",
    "Success! We have 500 pieces of metadata, each containing a different search result\n",
    "Like take a look at the 101st one\n",
    "'''\n",
    "sample_result = all_results[0]\n",
    "sample_result"
   ]
  },
  {
   "cell_type": "code",
   "execution_count": 7,
   "metadata": {
    "collapsed": false
   },
   "outputs": [
    {
     "data": {
      "text/plain": [
       "'https://answers.yahoo.com/question/index?qid=20100802084437AAEixwf'"
      ]
     },
     "execution_count": 7,
     "metadata": {},
     "output_type": "execute_result"
    }
   ],
   "source": [
    "'''\n",
    "Looks like the url is in the 'link' key of the meta data. Lets look at it by itself\n",
    "'''\n",
    "link = sample_result['link']\n",
    "link"
   ]
  },
  {
   "cell_type": "markdown",
   "metadata": {},
   "source": [
    "# Inspecting html\n",
    "Now that we know how to access each link from GoogleScraper, we will manually inspect the page in order to find the question and some other meta data associated with that page. We can now use the requests library to get the html"
   ]
  },
  {
   "cell_type": "code",
   "execution_count": 8,
   "metadata": {
    "collapsed": false
   },
   "outputs": [],
   "source": [
    "'''\n",
    "This command, issues a get request and returns a 'response' object\n",
    "'''\n",
    "response = requests.get(link)"
   ]
  },
  {
   "cell_type": "code",
   "execution_count": 9,
   "metadata": {
    "collapsed": false
   },
   "outputs": [],
   "source": [
    "'''\n",
    "The 'text' attribute of the response object contains the actual text of the html when you inspect it with \n",
    "your browser's developers tools\n",
    "\n",
    "BeautifulSoup is a python library that parses the gigantic mess of html code underneath\n",
    "'''\n",
    "soup = BeautifulSoup(response.text, 'html.parser')"
   ]
  },
  {
   "cell_type": "code",
   "execution_count": 14,
   "metadata": {
    "collapsed": false
   },
   "outputs": [
    {
     "data": {
      "text/plain": [
       "'\\n            Should I justify my cover letter?\\n        '"
      ]
     },
     "execution_count": 14,
     "metadata": {},
     "output_type": "execute_result"
    }
   ],
   "source": [
    "'''\n",
    "After manually inspecting the page, it looks like the question is going to always be\n",
    "in a div with class \"QuestionArea\". This is of course subject to change but generally should be stable\n",
    "\n",
    "The actually text of the question is in a class called \"rendered_qtext\"\n",
    "'''\n",
    "question = soup.find(\"h1\", { \"itemprop\" : \"name\" })\n",
    "follows = soup.find(\"span\", {\"class\",\"follow-text\"})\n",
    "answers = soup.find(\"span\", {\"class\",\"D-n\"})\n",
    "question.text"
   ]
  },
  {
   "cell_type": "code",
   "execution_count": 15,
   "metadata": {
    "collapsed": false
   },
   "outputs": [
    {
     "data": {
      "text/plain": [
       "'1'"
      ]
     },
     "execution_count": 15,
     "metadata": {},
     "output_type": "execute_result"
    }
   ],
   "source": [
    "follows[\"data-ya-fc\"]"
   ]
  },
  {
   "cell_type": "code",
   "execution_count": 16,
   "metadata": {
    "collapsed": false
   },
   "outputs": [
    {
     "data": {
      "text/plain": [
       "'2'"
      ]
     },
     "execution_count": 16,
     "metadata": {},
     "output_type": "execute_result"
    }
   ],
   "source": [
    "answers.text"
   ]
  },
  {
   "cell_type": "code",
   "execution_count": 40,
   "metadata": {
    "collapsed": false
   },
   "outputs": [
    {
     "ename": "NameError",
     "evalue": "name 'question_span' is not defined",
     "output_type": "error",
     "traceback": [
      "\u001b[1;31m---------------------------------------------------------------------------\u001b[0m",
      "\u001b[1;31mNameError\u001b[0m                                 Traceback (most recent call last)",
      "\u001b[1;32m<ipython-input-40-2c17362a4867>\u001b[0m in \u001b[0;36m<module>\u001b[1;34m()\u001b[0m\n\u001b[0;32m      2\u001b[0m \u001b[0mLets\u001b[0m \u001b[0mtake\u001b[0m \u001b[0ma\u001b[0m \u001b[0mlook\u001b[0m \u001b[0mat\u001b[0m \u001b[0mthe\u001b[0m \u001b[0mtext\u001b[0m\u001b[1;33m.\u001b[0m \u001b[0mVariable\u001b[0m \u001b[0mquestion_span\u001b[0m \u001b[1;32mis\u001b[0m \u001b[0mstill\u001b[0m \u001b[0ma\u001b[0m \u001b[0mBeautifulSoup\u001b[0m \u001b[0mobject\u001b[0m\u001b[1;33m\u001b[0m\u001b[0m\n\u001b[0;32m      3\u001b[0m '''\n\u001b[1;32m----> 4\u001b[1;33m \u001b[0mquestion_span\u001b[0m\u001b[1;33m.\u001b[0m\u001b[0mtext\u001b[0m\u001b[1;33m\u001b[0m\u001b[0m\n\u001b[0m",
      "\u001b[1;31mNameError\u001b[0m: name 'question_span' is not defined"
     ]
    }
   ],
   "source": [
    "'''\n",
    "Lets take a look at the text. Variable question_span is still a BeautifulSoup object\n",
    "'''\n",
    "question_span.text"
   ]
  },
  {
   "cell_type": "markdown",
   "metadata": {},
   "source": [
    "# Requests library is not enough :(\n",
    "After some more work not shown here, it was discovered that the requests library does not use your google profile information to login. Logging in to google is very important as this gives acccess to the number of followers of a question.\n",
    "\n",
    "# Use selenium to manipulate page\n",
    "selenium is a third party python library that lets you manipulate a webpage. A chrome driver had to be downloaded first (so this part won't work in your local notebook without downloading it yourself and changing the path). A new username and password dedicated just for scraping quora was created by phu. \n",
    "\n",
    "The code below might not work on your machine because it did ask me (teddy in houston) where the user normally logs in from. But after I entered that info in, the code below shold work every time.\n",
    "\n",
    "It sleeps for 3 seconds between entering username and password to make sure it has time to get to the password page."
   ]
  },
  {
   "cell_type": "code",
   "execution_count": 11,
   "metadata": {
    "collapsed": false
   },
   "outputs": [],
   "source": [
    "'''\n",
    "Selenium manually logs into google. Beforehand I created a quora account with the gmail email below.\n",
    "\n",
    "A new window should pop-up and you can actually see the magic happen before your eyes.\n",
    "\n",
    "Eventually chrome will navigate to the \"link\" variable above (look up several cells)\n",
    "'''\n",
    "driver_location = \"./chromedriver\"\n",
    "driver = webdriver.Chrome(executable_path=driver_location)\n",
    "driver.get(\"http://www.google.com\")\n",
    "driver.find_element_by_class_name('gb_Me').click()\n",
    "inputElement = driver.find_element_by_id(\"Email\")\n",
    "inputElement.send_keys('bsmithfun2016@gmail.com')\n",
    "inputElement.send_keys(Keys.ENTER)\n",
    "\n",
    "time.sleep(3)\n",
    "\n",
    "inputElement = driver.find_element_by_id(\"Passwd\")\n",
    "inputElement.send_keys('qwerty123!!!')\n",
    "inputElement.send_keys(Keys.ENTER)\n",
    "driver.get(link)"
   ]
  },
  {
   "cell_type": "code",
   "execution_count": 17,
   "metadata": {
    "collapsed": false
   },
   "outputs": [
    {
     "ename": "AttributeError",
     "evalue": "'NoneType' object has no attribute 'text'",
     "output_type": "error",
     "traceback": [
      "\u001b[1;31m---------------------------------------------------------------------------\u001b[0m",
      "\u001b[1;31mAttributeError\u001b[0m                            Traceback (most recent call last)",
      "\u001b[1;32m<ipython-input-17-5223cb348f62>\u001b[0m in \u001b[0;36m<module>\u001b[1;34m()\u001b[0m\n\u001b[0;32m      7\u001b[0m \u001b[0manswers\u001b[0m \u001b[1;33m=\u001b[0m \u001b[0msoup\u001b[0m\u001b[1;33m.\u001b[0m\u001b[0mfind\u001b[0m\u001b[1;33m(\u001b[0m\u001b[1;34m\"span\"\u001b[0m\u001b[1;33m,\u001b[0m \u001b[1;33m{\u001b[0m\u001b[1;34m\"itemprop\"\u001b[0m\u001b[1;33m,\u001b[0m\u001b[1;34m\"answerCount\"\u001b[0m\u001b[1;33m}\u001b[0m\u001b[1;33m)\u001b[0m\u001b[1;33m\u001b[0m\u001b[0m\n\u001b[0;32m      8\u001b[0m \u001b[0mquestion\u001b[0m\u001b[1;33m.\u001b[0m\u001b[0mtext\u001b[0m\u001b[1;33m\u001b[0m\u001b[0m\n\u001b[1;32m----> 9\u001b[1;33m \u001b[0manswers\u001b[0m\u001b[1;33m.\u001b[0m\u001b[0mtext\u001b[0m\u001b[1;33m\u001b[0m\u001b[0m\n\u001b[0m",
      "\u001b[1;31mAttributeError\u001b[0m: 'NoneType' object has no attribute 'text'"
     ]
    }
   ],
   "source": [
    "'''\n",
    "Now lets get that follows number\n",
    "'''\n",
    "soup = BeautifulSoup(driver.page_source, 'html.parser')\n",
    "question = soup.find(\"h1\", { \"itemprop\" : \"name\" })\n",
    "follows = soup.find(\"span\", {\"class\",\"follow-text\"})\n",
    "answers = soup.find(\"span\", {\"class\",\"D-n\"})\n",
    "question.text\n",
    "answers.text"
   ]
  },
  {
   "cell_type": "markdown",
   "metadata": {},
   "source": [
    "# Success! Now lets automate this!\n",
    "The below code automatically navigates to each of the 500 quora links to grab 3 items\n",
    "1. The question\n",
    "2. The number of followers\n",
    "3. The number of answers\n",
    "\n",
    "It keeps everything in text - we will handle number of followers that return '5.4k' later\n",
    "\n",
    "**We might want to think about sleeping for a couple seconds between each iteration so quora doesn't boot us**"
   ]
  },
  {
   "cell_type": "code",
   "execution_count": 42,
   "metadata": {
    "collapsed": false
   },
   "outputs": [],
   "source": [
    "'''\n",
    "This takes about 1 - 2 seconds per iteration\n",
    "\n",
    "It looks like a small bug creeps up here if the url is not formatted correctly.\n",
    "This just happened when one of the url had some junk in front of it ('/url?url=')\n",
    "I'll fix this later\n",
    "'''\n",
    "questions = []\n",
    "for result in all_results:\n",
    "    link = result['link']\n",
    "    #driver.get(link)\n",
    "    #soup = BeautifulSoup(driver.page_source, 'html.parser')\n",
    "    #question_area = soup.find(\"div\", { \"class\" : \"QuestionArea\" })\n",
    "    #question_span = question_area.find(\"span\", {\"class\": \"rendered_qtext\"})\n",
    "    #answers = soup.find(\"div\", {\"class\", \"QuestionPageAnswerHeader\"})\n",
    "    #answers_num = answers.text.split()[0]\n",
    "    #follows_num = soup.find('span', {'class', 'count'}).text\n",
    "    #questions.append([question_span.text, follows_num, answers_num])\n",
    "    response = requests.get(link)\n",
    "    soup = BeautifulSoup(response.text, 'html.parser')\n",
    "    question_f = soup.find(\"h1\", { \"itemprop\" : \"name\" })\n",
    "    follows_f = soup.find(\"span\", {\"class\",\"follow-text\"})\n",
    "    answers_f = soup.find(\"span\", {\"class\",\"D-n\"})\n",
    "    \n",
    "    if question_f is not None:\n",
    "        question = question_f.text\n",
    "        follows = -1\n",
    "        answers = -1\n",
    "        if follows_f is not None:\n",
    "            follows = follows_f[\"data-ya-fc\"]\n",
    "        if answers_f is not None:\n",
    "            answers = answers_f.text\n",
    "        \n",
    "        questions.append([link.strip(), question.strip(), follows, answers])\n",
    "    else:\n",
    "        questions.append([link.strip(), None, None, None])"
   ]
  },
  {
   "cell_type": "markdown",
   "metadata": {},
   "source": [
    "# pandas - easy data manipulation\n",
    "pandas is an awesome 3rd party library that makes data manipulation a breeze"
   ]
  },
  {
   "cell_type": "code",
   "execution_count": 44,
   "metadata": {
    "collapsed": false
   },
   "outputs": [
    {
     "data": {
      "text/html": [
       "<div>\n",
       "<table border=\"1\" class=\"dataframe\">\n",
       "  <thead>\n",
       "    <tr style=\"text-align: right;\">\n",
       "      <th></th>\n",
       "      <th>URL</th>\n",
       "      <th>Question</th>\n",
       "      <th>Follows</th>\n",
       "      <th>Answers</th>\n",
       "    </tr>\n",
       "  </thead>\n",
       "  <tbody>\n",
       "    <tr>\n",
       "      <th>0</th>\n",
       "      <td>https://answers.yahoo.com/question/index?qid=20100802084437AAEixwf</td>\n",
       "      <td>Should I justify my cover letter?</td>\n",
       "      <td>1</td>\n",
       "      <td>2</td>\n",
       "    </tr>\n",
       "    <tr>\n",
       "      <th>1</th>\n",
       "      <td>https://au.answers.yahoo.com/question/index?qid=20100723074700AAJGCyK</td>\n",
       "      <td>How do you know if you should be admitted to a mental hospital (inpatient or outpatient)?</td>\n",
       "      <td>0</td>\n",
       "      <td>How do you know if you should be admitted to a mental hospital (inpatient or outpatient)? \\r\\nPlease don't say 'see a psychiatrist', because I kn...</td>\n",
       "    </tr>\n",
       "    <tr>\n",
       "      <th>2</th>\n",
       "      <td>https://au.answers.yahoo.com/question/index?qid=20070719171425AAsXirQ</td>\n",
       "      <td>SIX FLAGS- What exactly should i take n wear?</td>\n",
       "      <td>1</td>\n",
       "      <td>8</td>\n",
       "    </tr>\n",
       "    <tr>\n",
       "      <th>3</th>\n",
       "      <td>https://nz.answers.yahoo.com/question/index?qid=20090314175642AA76T8c</td>\n",
       "      <td>How much water should my 10 month old be drinking?</td>\n",
       "      <td>1</td>\n",
       "      <td>My daughter is starting to lose interest in her breast feed in the middle of the day, so I still offer and sometimes she drinks for 5 minutes and...</td>\n",
       "    </tr>\n",
       "    <tr>\n",
       "      <th>4</th>\n",
       "      <td>https://ca.answers.yahoo.com/question/index?qid=20110521190937AAE9pFP</td>\n",
       "      <td>Should i leave my gambling addcited husband?</td>\n",
       "      <td>0</td>\n",
       "      <td>I have discovered that my husband has had a gambling addiction the entire time i have known him.  I was a single mother of a two year old and had...</td>\n",
       "    </tr>\n",
       "    <tr>\n",
       "      <th>5</th>\n",
       "      <td>https://answers.yahoo.com/question/index?qid=20060811152848AAqjaqh</td>\n",
       "      <td>How long should i walk and how many days a week in order to lose weight?</td>\n",
       "      <td>0</td>\n",
       "      <td>13</td>\n",
       "    </tr>\n",
       "    <tr>\n",
       "      <th>6</th>\n",
       "      <td>https://answers.yahoo.com/question/index?qid=20090111160824AAJUuro</td>\n",
       "      <td>Should I eat every 2 or 3 hours?</td>\n",
       "      <td>5</td>\n",
       "      <td>37</td>\n",
       "    </tr>\n",
       "    <tr>\n",
       "      <th>7</th>\n",
       "      <td>https://answers.yahoo.com/question/?qid=20081220040505AAMI4Xe</td>\n",
       "      <td>How fast should my internet connection speed be to play PS3 online?</td>\n",
       "      <td>0</td>\n",
       "      <td>I have Sky Broadband Connect which offers me up to 8mb download speeds (but I can tell its not). I went to \"www.speedtest.com\" and it says my dow...</td>\n",
       "    </tr>\n",
       "    <tr>\n",
       "      <th>8</th>\n",
       "      <td>https://answers.yahoo.com/question/index?qid=20090131135802AAfe1Vy</td>\n",
       "      <td>Should this be capitalized?</td>\n",
       "      <td>0</td>\n",
       "      <td>4</td>\n",
       "    </tr>\n",
       "    <tr>\n",
       "      <th>9</th>\n",
       "      <td>https://answers.yahoo.com/question/?qid=20100422200801AAsWXIB</td>\n",
       "      <td>Should i read The Iliad or The Odyssey first?</td>\n",
       "      <td>0</td>\n",
       "      <td>im 13 and LOVE greek mythology. i can read complex stories, and at the age of 8 i was able to read at a 12th grade level. i know that the iliad w...</td>\n",
       "    </tr>\n",
       "    <tr>\n",
       "      <th>10</th>\n",
       "      <td>https://ca.answers.yahoo.com/question/index?qid=20110514200040AA4mgaO</td>\n",
       "      <td>Should I tell my husband I was molested as a child, or stick to my plan of pretending it never happened?</td>\n",
       "      <td>0</td>\n",
       "      <td>Hello, my name is Mitchel. \\n\\r\\nThis has been troubling me throughout my 16 year relationship with my husband ((We're 28, been together since 12...</td>\n",
       "    </tr>\n",
       "    <tr>\n",
       "      <th>11</th>\n",
       "      <td>https://ca.answers.yahoo.com/question/index?qid=20101001094949AAkwqgJ</td>\n",
       "      <td>What colour should a puppies tongue and gums be?</td>\n",
       "      <td>0</td>\n",
       "      <td>8</td>\n",
       "    </tr>\n",
       "    <tr>\n",
       "      <th>12</th>\n",
       "      <td>https://answers.yahoo.com/question/index?qid=20081125141731AAHFPpG</td>\n",
       "      <td>What Should A 11 year old girl ask for christmas?</td>\n",
       "      <td>1</td>\n",
       "      <td>18</td>\n",
       "    </tr>\n",
       "    <tr>\n",
       "      <th>13</th>\n",
       "      <td>https://ph.answers.yahoo.com/question/index?qid=20111004171047AAPGfQg</td>\n",
       "      <td>Should i keep my Leopard Geckos heat lamp on all day and night?</td>\n",
       "      <td>0</td>\n",
       "      <td>I just got my gecko and he is a Leopard Gecko and i do not know if i should keep my Heat lamp on all day and night or what please tell me if you ...</td>\n",
       "    </tr>\n",
       "    <tr>\n",
       "      <th>14</th>\n",
       "      <td>https://ca.answers.yahoo.com/question/index?qid=20110811105558AAxSxx2</td>\n",
       "      <td>Should you put on moisturizer right after a shower?</td>\n",
       "      <td>0</td>\n",
       "      <td>I know that sounds like a dumb question but i heard your suppost to wait a couple minutes for your pores to close back up or something like that....</td>\n",
       "    </tr>\n",
       "    <tr>\n",
       "      <th>15</th>\n",
       "      <td>https://ca.answers.yahoo.com/question/index?qid=20120708235236AAX5Ptu</td>\n",
       "      <td>Should I tell my parents I'm adopted?</td>\n",
       "      <td>2</td>\n",
       "      <td>14</td>\n",
       "    </tr>\n",
       "    <tr>\n",
       "      <th>16</th>\n",
       "      <td>https://answers.yahoo.com/question/index?qid=20060725174043AANuyud</td>\n",
       "      <td>Car Accident: Should I talk to the other guys insurance company if they call up for info about accident?</td>\n",
       "      <td>0</td>\n",
       "      <td>If the other guy's insurance company calls up to \"Grill\" me to find out information\" -- should I talk to them or tell them to talk with my insura...</td>\n",
       "    </tr>\n",
       "    <tr>\n",
       "      <th>17</th>\n",
       "      <td>https://answers.yahoo.com/question/?qid=20110216131436AAoO5q8</td>\n",
       "      <td>Should I move to Atlanta to start a new life, how's life there?</td>\n",
       "      <td>5</td>\n",
       "      <td>I am looking for a city similar to NYC but I dont wanna move to Miami or LA \\n\\r\\nAtlanta is the only other major one that crosses my mind but I ...</td>\n",
       "    </tr>\n",
       "    <tr>\n",
       "      <th>18</th>\n",
       "      <td>https://answers.yahoo.com/question/index?qid=20060726112836AAeImnE</td>\n",
       "      <td>Should the ceramic tile throughout my house match?</td>\n",
       "      <td>0</td>\n",
       "      <td>6</td>\n",
       "    </tr>\n",
       "    <tr>\n",
       "      <th>19</th>\n",
       "      <td>https://answers.yahoo.com/question/?qid=20060620123842AACrdww</td>\n",
       "      <td>What should I charge for painting services?</td>\n",
       "      <td>0</td>\n",
       "      <td>I am interested in starting up a painting business and I was just wondering if anyone could give me an idea on how to go about charging for a roo...</td>\n",
       "    </tr>\n",
       "  </tbody>\n",
       "</table>\n",
       "</div>"
      ],
      "text/plain": [
       "                                                                      URL  \\\n",
       "0      https://answers.yahoo.com/question/index?qid=20100802084437AAEixwf   \n",
       "1   https://au.answers.yahoo.com/question/index?qid=20100723074700AAJGCyK   \n",
       "2   https://au.answers.yahoo.com/question/index?qid=20070719171425AAsXirQ   \n",
       "3   https://nz.answers.yahoo.com/question/index?qid=20090314175642AA76T8c   \n",
       "4   https://ca.answers.yahoo.com/question/index?qid=20110521190937AAE9pFP   \n",
       "5      https://answers.yahoo.com/question/index?qid=20060811152848AAqjaqh   \n",
       "6      https://answers.yahoo.com/question/index?qid=20090111160824AAJUuro   \n",
       "7           https://answers.yahoo.com/question/?qid=20081220040505AAMI4Xe   \n",
       "8      https://answers.yahoo.com/question/index?qid=20090131135802AAfe1Vy   \n",
       "9           https://answers.yahoo.com/question/?qid=20100422200801AAsWXIB   \n",
       "10  https://ca.answers.yahoo.com/question/index?qid=20110514200040AA4mgaO   \n",
       "11  https://ca.answers.yahoo.com/question/index?qid=20101001094949AAkwqgJ   \n",
       "12     https://answers.yahoo.com/question/index?qid=20081125141731AAHFPpG   \n",
       "13  https://ph.answers.yahoo.com/question/index?qid=20111004171047AAPGfQg   \n",
       "14  https://ca.answers.yahoo.com/question/index?qid=20110811105558AAxSxx2   \n",
       "15  https://ca.answers.yahoo.com/question/index?qid=20120708235236AAX5Ptu   \n",
       "16     https://answers.yahoo.com/question/index?qid=20060725174043AANuyud   \n",
       "17          https://answers.yahoo.com/question/?qid=20110216131436AAoO5q8   \n",
       "18     https://answers.yahoo.com/question/index?qid=20060726112836AAeImnE   \n",
       "19          https://answers.yahoo.com/question/?qid=20060620123842AACrdww   \n",
       "\n",
       "                                                                                                    Question  \\\n",
       "0                                                                          Should I justify my cover letter?   \n",
       "1                  How do you know if you should be admitted to a mental hospital (inpatient or outpatient)?   \n",
       "2                                                              SIX FLAGS- What exactly should i take n wear?   \n",
       "3                                                         How much water should my 10 month old be drinking?   \n",
       "4                                                               Should i leave my gambling addcited husband?   \n",
       "5                                   How long should i walk and how many days a week in order to lose weight?   \n",
       "6                                                                           Should I eat every 2 or 3 hours?   \n",
       "7                                        How fast should my internet connection speed be to play PS3 online?   \n",
       "8                                                                                Should this be capitalized?   \n",
       "9                                                              Should i read The Iliad or The Odyssey first?   \n",
       "10  Should I tell my husband I was molested as a child, or stick to my plan of pretending it never happened?   \n",
       "11                                                          What colour should a puppies tongue and gums be?   \n",
       "12                                                         What Should A 11 year old girl ask for christmas?   \n",
       "13                                           Should i keep my Leopard Geckos heat lamp on all day and night?   \n",
       "14                                                       Should you put on moisturizer right after a shower?   \n",
       "15                                                                     Should I tell my parents I'm adopted?   \n",
       "16  Car Accident: Should I talk to the other guys insurance company if they call up for info about accident?   \n",
       "17                                           Should I move to Atlanta to start a new life, how's life there?   \n",
       "18                                                        Should the ceramic tile throughout my house match?   \n",
       "19                                                               What should I charge for painting services?   \n",
       "\n",
       "   Follows  \\\n",
       "0        1   \n",
       "1        0   \n",
       "2        1   \n",
       "3        1   \n",
       "4        0   \n",
       "5        0   \n",
       "6        5   \n",
       "7        0   \n",
       "8        0   \n",
       "9        0   \n",
       "10       0   \n",
       "11       0   \n",
       "12       1   \n",
       "13       0   \n",
       "14       0   \n",
       "15       2   \n",
       "16       0   \n",
       "17       5   \n",
       "18       0   \n",
       "19       0   \n",
       "\n",
       "                                                                                                                                                  Answers  \n",
       "0                                                                                                                                                       2  \n",
       "1    How do you know if you should be admitted to a mental hospital (inpatient or outpatient)? \\r\\nPlease don't say 'see a psychiatrist', because I kn...  \n",
       "2                                                                                                                                                       8  \n",
       "3    My daughter is starting to lose interest in her breast feed in the middle of the day, so I still offer and sometimes she drinks for 5 minutes and...  \n",
       "4    I have discovered that my husband has had a gambling addiction the entire time i have known him.  I was a single mother of a two year old and had...  \n",
       "5                                                                                                                                                      13  \n",
       "6                                                                                                                                                      37  \n",
       "7    I have Sky Broadband Connect which offers me up to 8mb download speeds (but I can tell its not). I went to \"www.speedtest.com\" and it says my dow...  \n",
       "8                                                                                                                                                       4  \n",
       "9    im 13 and LOVE greek mythology. i can read complex stories, and at the age of 8 i was able to read at a 12th grade level. i know that the iliad w...  \n",
       "10   Hello, my name is Mitchel. \\n\\r\\nThis has been troubling me throughout my 16 year relationship with my husband ((We're 28, been together since 12...  \n",
       "11                                                                                                                                                      8  \n",
       "12                                                                                                                                                     18  \n",
       "13   I just got my gecko and he is a Leopard Gecko and i do not know if i should keep my Heat lamp on all day and night or what please tell me if you ...  \n",
       "14   I know that sounds like a dumb question but i heard your suppost to wait a couple minutes for your pores to close back up or something like that....  \n",
       "15                                                                                                                                                     14  \n",
       "16   If the other guy's insurance company calls up to \"Grill\" me to find out information\" -- should I talk to them or tell them to talk with my insura...  \n",
       "17   I am looking for a city similar to NYC but I dont wanna move to Miami or LA \\n\\r\\nAtlanta is the only other major one that crosses my mind but I ...  \n",
       "18                                                                                                                                                      6  \n",
       "19   I am interested in starting up a painting business and I was just wondering if anyone could give me an idea on how to go about charging for a roo...  "
      ]
     },
     "execution_count": 44,
     "metadata": {},
     "output_type": "execute_result"
    }
   ],
   "source": [
    "'''\n",
    "use pandas main object the DataFrame to insert all the data and insepct the top 20 rows\n",
    "'''\n",
    "df_questions = pd.DataFrame(questions, columns=['URL', 'Question', 'Follows', 'Answers'])\n",
    "#df_questions['Question'] = df_questions['Question'].map(lambda x: x.strip())\n",
    "#df_questions['Follows'] = df_questions['Follows'].map(lambda x: int(x))\n",
    "#df_questions['Answers'] = df_questions['Answers'].map(lambda x: int(x))\n",
    "df_questions.head(20)"
   ]
  },
  {
   "cell_type": "code",
   "execution_count": 39,
   "metadata": {
    "collapsed": false
   },
   "outputs": [
    {
     "ename": "TypeError",
     "evalue": "unorderable types: int() > str()",
     "output_type": "error",
     "traceback": [
      "\u001b[1;31m---------------------------------------------------------------------------\u001b[0m",
      "\u001b[1;31mTypeError\u001b[0m                                 Traceback (most recent call last)",
      "\u001b[1;32m<ipython-input-39-870b1b685197>\u001b[0m in \u001b[0;36m<module>\u001b[1;34m()\u001b[0m\n\u001b[0;32m      3\u001b[0m '''\n\u001b[0;32m      4\u001b[0m \u001b[0mpd\u001b[0m\u001b[1;33m.\u001b[0m\u001b[0moptions\u001b[0m\u001b[1;33m.\u001b[0m\u001b[0mdisplay\u001b[0m\u001b[1;33m.\u001b[0m\u001b[0mmax_colwidth\u001b[0m \u001b[1;33m=\u001b[0m \u001b[1;36m150\u001b[0m\u001b[1;33m\u001b[0m\u001b[0m\n\u001b[1;32m----> 5\u001b[1;33m \u001b[0mdf_questions\u001b[0m\u001b[1;33m.\u001b[0m\u001b[0msort_values\u001b[0m\u001b[1;33m(\u001b[0m\u001b[1;34m'Follows'\u001b[0m\u001b[1;33m,\u001b[0m \u001b[0mascending\u001b[0m\u001b[1;33m=\u001b[0m\u001b[1;32mFalse\u001b[0m\u001b[1;33m,\u001b[0m \u001b[0minplace\u001b[0m\u001b[1;33m=\u001b[0m\u001b[1;32mTrue\u001b[0m\u001b[1;33m)\u001b[0m\u001b[1;33m\u001b[0m\u001b[0m\n\u001b[0m\u001b[0;32m      6\u001b[0m \u001b[0mdf_questions\u001b[0m\u001b[1;33m.\u001b[0m\u001b[0mhead\u001b[0m\u001b[1;33m(\u001b[0m\u001b[1;36m20\u001b[0m\u001b[1;33m)\u001b[0m\u001b[1;33m\u001b[0m\u001b[0m\n",
      "\u001b[1;32mC:\\Program Files\\Anaconda3\\lib\\site-packages\\pandas\\core\\frame.py\u001b[0m in \u001b[0;36msort_values\u001b[1;34m(self, by, axis, ascending, inplace, kind, na_position)\u001b[0m\n\u001b[0;32m   3158\u001b[0m \u001b[1;33m\u001b[0m\u001b[0m\n\u001b[0;32m   3159\u001b[0m             indexer = _nargsort(k, kind=kind, ascending=ascending,\n\u001b[1;32m-> 3160\u001b[1;33m                                 na_position=na_position)\n\u001b[0m\u001b[0;32m   3161\u001b[0m \u001b[1;33m\u001b[0m\u001b[0m\n\u001b[0;32m   3162\u001b[0m         new_data = self._data.take(indexer,\n",
      "\u001b[1;32mC:\\Program Files\\Anaconda3\\lib\\site-packages\\pandas\\core\\groupby.py\u001b[0m in \u001b[0;36m_nargsort\u001b[1;34m(items, kind, ascending, na_position)\u001b[0m\n\u001b[0;32m   4174\u001b[0m         \u001b[0mnon_nans\u001b[0m \u001b[1;33m=\u001b[0m \u001b[0mnon_nans\u001b[0m\u001b[1;33m[\u001b[0m\u001b[1;33m:\u001b[0m\u001b[1;33m:\u001b[0m\u001b[1;33m-\u001b[0m\u001b[1;36m1\u001b[0m\u001b[1;33m]\u001b[0m\u001b[1;33m\u001b[0m\u001b[0m\n\u001b[0;32m   4175\u001b[0m         \u001b[0mnon_nan_idx\u001b[0m \u001b[1;33m=\u001b[0m \u001b[0mnon_nan_idx\u001b[0m\u001b[1;33m[\u001b[0m\u001b[1;33m:\u001b[0m\u001b[1;33m:\u001b[0m\u001b[1;33m-\u001b[0m\u001b[1;36m1\u001b[0m\u001b[1;33m]\u001b[0m\u001b[1;33m\u001b[0m\u001b[0m\n\u001b[1;32m-> 4176\u001b[1;33m     \u001b[0mindexer\u001b[0m \u001b[1;33m=\u001b[0m \u001b[0mnon_nan_idx\u001b[0m\u001b[1;33m[\u001b[0m\u001b[0mnon_nans\u001b[0m\u001b[1;33m.\u001b[0m\u001b[0margsort\u001b[0m\u001b[1;33m(\u001b[0m\u001b[0mkind\u001b[0m\u001b[1;33m=\u001b[0m\u001b[0mkind\u001b[0m\u001b[1;33m)\u001b[0m\u001b[1;33m]\u001b[0m\u001b[1;33m\u001b[0m\u001b[0m\n\u001b[0m\u001b[0;32m   4177\u001b[0m     \u001b[1;32mif\u001b[0m \u001b[1;32mnot\u001b[0m \u001b[0mascending\u001b[0m\u001b[1;33m:\u001b[0m\u001b[1;33m\u001b[0m\u001b[0m\n\u001b[0;32m   4178\u001b[0m         \u001b[0mindexer\u001b[0m \u001b[1;33m=\u001b[0m \u001b[0mindexer\u001b[0m\u001b[1;33m[\u001b[0m\u001b[1;33m:\u001b[0m\u001b[1;33m:\u001b[0m\u001b[1;33m-\u001b[0m\u001b[1;36m1\u001b[0m\u001b[1;33m]\u001b[0m\u001b[1;33m\u001b[0m\u001b[0m\n",
      "\u001b[1;31mTypeError\u001b[0m: unorderable types: int() > str()"
     ]
    }
   ],
   "source": [
    "'''\n",
    "Sort by most follows\n",
    "'''\n",
    "pd.options.display.max_colwidth = 150\n",
    "df_questions.sort_values('Follows', ascending=False, inplace=True)\n",
    "df_questions.head(20)"
   ]
  },
  {
   "cell_type": "code",
   "execution_count": 46,
   "metadata": {
    "collapsed": true
   },
   "outputs": [],
   "source": [
    "'''\n",
    "Convert to csv\n",
    "'''\n",
    "df_questions.to_csv('Results/Yahoo! Answers - Srape Results.csv', index=False)"
   ]
  },
  {
   "cell_type": "code",
   "execution_count": null,
   "metadata": {
    "collapsed": true
   },
   "outputs": [],
   "source": []
  }
 ],
 "metadata": {
  "kernelspec": {
   "display_name": "Python 3",
   "language": "python",
   "name": "python3"
  },
  "language_info": {
   "codemirror_mode": {
    "name": "ipython",
    "version": 3
   },
   "file_extension": ".py",
   "mimetype": "text/x-python",
   "name": "python",
   "nbconvert_exporter": "python",
   "pygments_lexer": "ipython3",
   "version": "3.5.1"
  }
 },
 "nbformat": 4,
 "nbformat_minor": 0
}
