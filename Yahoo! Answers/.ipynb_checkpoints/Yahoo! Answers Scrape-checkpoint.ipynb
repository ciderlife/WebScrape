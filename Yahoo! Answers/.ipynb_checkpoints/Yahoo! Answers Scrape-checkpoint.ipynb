{
 "cells": [
  {
   "cell_type": "code",
   "execution_count": 1,
   "metadata": {
    "collapsed": false
   },
   "outputs": [],
   "source": [
    "import json\n",
    "from bs4 import BeautifulSoup\n",
    "import pandas as pd\n",
    "from selenium import webdriver\n",
    "from selenium.webdriver.common.keys import Keys\n",
    "import requests\n",
    "import time"
   ]
  },
  {
   "cell_type": "code",
   "execution_count": 2,
   "metadata": {
    "collapsed": false
   },
   "outputs": [
    {
     "data": {
      "text/plain": [
       "['2016-06-28 13:52:39,980 - GoogleScraper.caching - INFO - 10 cache files found in .scrapecache/',\n",
       " '2016-06-28 13:52:39,980 - GoogleScraper.caching - INFO - 10/10 objects have been read from the cache. 0 remain to get scraped.']"
      ]
     },
     "execution_count": 2,
     "metadata": {},
     "output_type": "execute_result"
    }
   ],
   "source": [
    "%system GoogleScraper -m http -p 10 -n 50 -q \"should site:answers.yahoo.com\" --output-filename Results/google.json"
   ]
  },
  {
   "cell_type": "markdown",
   "metadata": {},
   "source": [
    "# Open the file\n",
    "We saved the above results into a file **quora_june.json**. We open it up and use the json library to load it into a python list"
   ]
  },
  {
   "cell_type": "code",
   "execution_count": 3,
   "metadata": {
    "collapsed": false
   },
   "outputs": [],
   "source": [
    "with open(\"Results/google.json\", 'r') as f:\n",
    "    data  = json.load(f)"
   ]
  },
  {
   "cell_type": "code",
   "execution_count": 4,
   "metadata": {
    "collapsed": true
   },
   "outputs": [],
   "source": [
    "'''\n",
    "Looks like the results key has a list of length 50\n",
    "Each item in the list is a python dictionary of the all important metadata\n",
    "Lets put all this data into one list. A list of python dictionaries\n",
    "'''\n",
    "\n",
    "all_results = []\n",
    "for d in data:\n",
    "    all_results.extend(d['results'])"
   ]
  },
  {
   "cell_type": "code",
   "execution_count": 5,
   "metadata": {
    "collapsed": false
   },
   "outputs": [
    {
     "data": {
      "text/plain": [
       "500"
      ]
     },
     "execution_count": 5,
     "metadata": {},
     "output_type": "execute_result"
    }
   ],
   "source": [
    "'''\n",
    "We should have 500 pieces of metadata\n",
    "'''\n",
    "len(all_results)"
   ]
  },
  {
   "cell_type": "code",
   "execution_count": 6,
   "metadata": {
    "collapsed": false
   },
   "outputs": [
    {
     "data": {
      "text/plain": [
       "{'domain': 'answers.yahoo.com',\n",
       " 'id': '401',\n",
       " 'link': 'https://answers.yahoo.com/question/index?qid=20100802084437AAEixwf',\n",
       " 'link_type': 'results',\n",
       " 'rank': '1',\n",
       " 'serp_id': '9',\n",
       " 'snippet': \"Aug 2, 2010 - Should the letter be justified. I am looking online but I can't find a sample formated cover letter. ... I feel that letters typed with just the left margin justified look better and are easier to read.\",\n",
       " 'title': 'Should I justify my cover letter? | Yahoo Answers',\n",
       " 'visible_link': 'https://answers.yahoo.com/question/index?qid...'}"
      ]
     },
     "execution_count": 6,
     "metadata": {},
     "output_type": "execute_result"
    }
   ],
   "source": [
    "'''\n",
    "Success! We have 500 pieces of metadata, each containing a different search result\n",
    "Like take a look at the 101st one\n",
    "'''\n",
    "sample_result = all_results[0]\n",
    "sample_result"
   ]
  },
  {
   "cell_type": "code",
   "execution_count": 7,
   "metadata": {
    "collapsed": false
   },
   "outputs": [
    {
     "data": {
      "text/plain": [
       "'https://answers.yahoo.com/question/index?qid=20100802084437AAEixwf'"
      ]
     },
     "execution_count": 7,
     "metadata": {},
     "output_type": "execute_result"
    }
   ],
   "source": [
    "'''\n",
    "Looks like the url is in the 'link' key of the meta data. Lets look at it by itself\n",
    "'''\n",
    "link = sample_result['link']\n",
    "link"
   ]
  },
  {
   "cell_type": "markdown",
   "metadata": {},
   "source": [
    "# Inspecting html\n",
    "Now that we know how to access each link from GoogleScraper, we will manually inspect the page in order to find the question and some other meta data associated with that page. We can now use the requests library to get the html"
   ]
  },
  {
   "cell_type": "code",
   "execution_count": 8,
   "metadata": {
    "collapsed": false
   },
   "outputs": [],
   "source": [
    "'''\n",
    "This command, issues a get request and returns a 'response' object\n",
    "'''\n",
    "response = requests.get(link)"
   ]
  },
  {
   "cell_type": "code",
   "execution_count": 9,
   "metadata": {
    "collapsed": false
   },
   "outputs": [],
   "source": [
    "'''\n",
    "The 'text' attribute of the response object contains the actual text of the html when you inspect it with \n",
    "your browser's developers tools\n",
    "\n",
    "BeautifulSoup is a python library that parses the gigantic mess of html code underneath\n",
    "'''\n",
    "soup = BeautifulSoup(response.text, 'html.parser')"
   ]
  },
  {
   "cell_type": "code",
   "execution_count": 14,
   "metadata": {
    "collapsed": false
   },
   "outputs": [
    {
     "data": {
      "text/plain": [
       "'\\n            Should I justify my cover letter?\\n        '"
      ]
     },
     "execution_count": 14,
     "metadata": {},
     "output_type": "execute_result"
    }
   ],
   "source": [
    "'''\n",
    "After manually inspecting the page, it looks like the question is going to always be\n",
    "in a div with class \"QuestionArea\". This is of course subject to change but generally should be stable\n",
    "\n",
    "The actually text of the question is in a class called \"rendered_qtext\"\n",
    "'''\n",
    "question = soup.find(\"h1\", { \"itemprop\" : \"name\" })\n",
    "follows = soup.find(\"span\", {\"class\",\"follow-text\"})\n",
    "answers = soup.find(\"span\", {\"class\",\"D-n\"})\n",
    "question.text"
   ]
  },
  {
   "cell_type": "code",
   "execution_count": 15,
   "metadata": {
    "collapsed": false
   },
   "outputs": [
    {
     "data": {
      "text/plain": [
       "'1'"
      ]
     },
     "execution_count": 15,
     "metadata": {},
     "output_type": "execute_result"
    }
   ],
   "source": [
    "follows[\"data-ya-fc\"]"
   ]
  },
  {
   "cell_type": "code",
   "execution_count": 16,
   "metadata": {
    "collapsed": false
   },
   "outputs": [
    {
     "data": {
      "text/plain": [
       "'2'"
      ]
     },
     "execution_count": 16,
     "metadata": {},
     "output_type": "execute_result"
    }
   ],
   "source": [
    "answers.text"
   ]
  },
  {
   "cell_type": "code",
   "execution_count": 40,
   "metadata": {
    "collapsed": false
   },
   "outputs": [
    {
     "ename": "NameError",
     "evalue": "name 'question_span' is not defined",
     "output_type": "error",
     "traceback": [
      "\u001b[1;31m---------------------------------------------------------------------------\u001b[0m",
      "\u001b[1;31mNameError\u001b[0m                                 Traceback (most recent call last)",
      "\u001b[1;32m<ipython-input-40-2c17362a4867>\u001b[0m in \u001b[0;36m<module>\u001b[1;34m()\u001b[0m\n\u001b[0;32m      2\u001b[0m \u001b[0mLets\u001b[0m \u001b[0mtake\u001b[0m \u001b[0ma\u001b[0m \u001b[0mlook\u001b[0m \u001b[0mat\u001b[0m \u001b[0mthe\u001b[0m \u001b[0mtext\u001b[0m\u001b[1;33m.\u001b[0m \u001b[0mVariable\u001b[0m \u001b[0mquestion_span\u001b[0m \u001b[1;32mis\u001b[0m \u001b[0mstill\u001b[0m \u001b[0ma\u001b[0m \u001b[0mBeautifulSoup\u001b[0m \u001b[0mobject\u001b[0m\u001b[1;33m\u001b[0m\u001b[0m\n\u001b[0;32m      3\u001b[0m '''\n\u001b[1;32m----> 4\u001b[1;33m \u001b[0mquestion_span\u001b[0m\u001b[1;33m.\u001b[0m\u001b[0mtext\u001b[0m\u001b[1;33m\u001b[0m\u001b[0m\n\u001b[0m",
      "\u001b[1;31mNameError\u001b[0m: name 'question_span' is not defined"
     ]
    }
   ],
   "source": [
    "'''\n",
    "Lets take a look at the text. Variable question_span is still a BeautifulSoup object\n",
    "'''\n",
    "question_span.text"
   ]
  },
  {
   "cell_type": "markdown",
   "metadata": {},
   "source": [
    "# Requests library is not enough :(\n",
    "After some more work not shown here, it was discovered that the requests library does not use your google profile information to login. Logging in to google is very important as this gives acccess to the number of followers of a question.\n",
    "\n",
    "# Use selenium to manipulate page\n",
    "selenium is a third party python library that lets you manipulate a webpage. A chrome driver had to be downloaded first (so this part won't work in your local notebook without downloading it yourself and changing the path). A new username and password dedicated just for scraping quora was created by phu. \n",
    "\n",
    "The code below might not work on your machine because it did ask me (teddy in houston) where the user normally logs in from. But after I entered that info in, the code below shold work every time.\n",
    "\n",
    "It sleeps for 3 seconds between entering username and password to make sure it has time to get to the password page."
   ]
  },
  {
   "cell_type": "code",
   "execution_count": 11,
   "metadata": {
    "collapsed": false
   },
   "outputs": [],
   "source": [
    "'''\n",
    "Selenium manually logs into google. Beforehand I created a quora account with the gmail email below.\n",
    "\n",
    "A new window should pop-up and you can actually see the magic happen before your eyes.\n",
    "\n",
    "Eventually chrome will navigate to the \"link\" variable above (look up several cells)\n",
    "'''\n",
    "driver_location = \"./chromedriver\"\n",
    "driver = webdriver.Chrome(executable_path=driver_location)\n",
    "driver.get(\"http://www.google.com\")\n",
    "driver.find_element_by_class_name('gb_Me').click()\n",
    "inputElement = driver.find_element_by_id(\"Email\")\n",
    "inputElement.send_keys('bsmithfun2016@gmail.com')\n",
    "inputElement.send_keys(Keys.ENTER)\n",
    "\n",
    "time.sleep(3)\n",
    "\n",
    "inputElement = driver.find_element_by_id(\"Passwd\")\n",
    "inputElement.send_keys('qwerty123!!!')\n",
    "inputElement.send_keys(Keys.ENTER)\n",
    "driver.get(link)"
   ]
  },
  {
   "cell_type": "code",
   "execution_count": 17,
   "metadata": {
    "collapsed": false
   },
   "outputs": [
    {
     "ename": "AttributeError",
     "evalue": "'NoneType' object has no attribute 'text'",
     "output_type": "error",
     "traceback": [
      "\u001b[1;31m---------------------------------------------------------------------------\u001b[0m",
      "\u001b[1;31mAttributeError\u001b[0m                            Traceback (most recent call last)",
      "\u001b[1;32m<ipython-input-17-5223cb348f62>\u001b[0m in \u001b[0;36m<module>\u001b[1;34m()\u001b[0m\n\u001b[0;32m      7\u001b[0m \u001b[0manswers\u001b[0m \u001b[1;33m=\u001b[0m \u001b[0msoup\u001b[0m\u001b[1;33m.\u001b[0m\u001b[0mfind\u001b[0m\u001b[1;33m(\u001b[0m\u001b[1;34m\"span\"\u001b[0m\u001b[1;33m,\u001b[0m \u001b[1;33m{\u001b[0m\u001b[1;34m\"itemprop\"\u001b[0m\u001b[1;33m,\u001b[0m\u001b[1;34m\"answerCount\"\u001b[0m\u001b[1;33m}\u001b[0m\u001b[1;33m)\u001b[0m\u001b[1;33m\u001b[0m\u001b[0m\n\u001b[0;32m      8\u001b[0m \u001b[0mquestion\u001b[0m\u001b[1;33m.\u001b[0m\u001b[0mtext\u001b[0m\u001b[1;33m\u001b[0m\u001b[0m\n\u001b[1;32m----> 9\u001b[1;33m \u001b[0manswers\u001b[0m\u001b[1;33m.\u001b[0m\u001b[0mtext\u001b[0m\u001b[1;33m\u001b[0m\u001b[0m\n\u001b[0m",
      "\u001b[1;31mAttributeError\u001b[0m: 'NoneType' object has no attribute 'text'"
     ]
    }
   ],
   "source": [
    "'''\n",
    "Now lets get that follows number\n",
    "'''\n",
    "soup = BeautifulSoup(driver.page_source, 'html.parser')\n",
    "question = soup.find(\"h1\", { \"itemprop\" : \"name\" })\n",
    "follows = soup.find(\"span\", {\"class\",\"follow-text\"})\n",
    "answers = soup.find(\"span\", {\"class\",\"D-n\"})\n",
    "question.text\n",
    "answers.text"
   ]
  },
  {
   "cell_type": "markdown",
   "metadata": {},
   "source": [
    "# Success! Now lets automate this!\n",
    "The below code automatically navigates to each of the 500 quora links to grab 3 items\n",
    "1. The question\n",
    "2. The number of followers\n",
    "3. The number of answers\n",
    "\n",
    "It keeps everything in text - we will handle number of followers that return '5.4k' later\n",
    "\n",
    "**We might want to think about sleeping for a couple seconds between each iteration so quora doesn't boot us**"
   ]
  },
  {
   "cell_type": "code",
   "execution_count": 17,
   "metadata": {
    "collapsed": false
   },
   "outputs": [],
   "source": [
    "'''\n",
    "This takes about 1 - 2 seconds per iteration\n",
    "\n",
    "It looks like a small bug creeps up here if the url is not formatted correctly.\n",
    "This just happened when one of the url had some junk in front of it ('/url?url=')\n",
    "I'll fix this later\n",
    "'''\n",
    "questions = []\n",
    "for result in all_results:\n",
    "    link = result['link']\n",
    "    #driver.get(link)\n",
    "    #soup = BeautifulSoup(driver.page_source, 'html.parser')\n",
    "    #question_area = soup.find(\"div\", { \"class\" : \"QuestionArea\" })\n",
    "    #question_span = question_area.find(\"span\", {\"class\": \"rendered_qtext\"})\n",
    "    #answers = soup.find(\"div\", {\"class\", \"QuestionPageAnswerHeader\"})\n",
    "    #answers_num = answers.text.split()[0]\n",
    "    #follows_num = soup.find('span', {'class', 'count'}).text\n",
    "    #questions.append([question_span.text, follows_num, answers_num])\n",
    "    response = requests.get(link)\n",
    "    soup = BeautifulSoup(response.text, 'html.parser')\n",
    "    question = soup.find(\"h1\", { \"itemprop\" : \"name\" }).text\n",
    "    follows = soup.find(\"span\", {\"class\",\"follow-text\"})[]\n",
    "    answers = soup.find(\"span\", {\"class\",\"D-n\"}).text\n",
    "    questions.append([question, follows, answers])"
   ]
  },
  {
   "cell_type": "markdown",
   "metadata": {},
   "source": [
    "# pandas - easy data manipulation\n",
    "pandas is an awesome 3rd party library that makes data manipulation a breeze"
   ]
  },
  {
   "cell_type": "code",
   "execution_count": 18,
   "metadata": {
    "collapsed": false
   },
   "outputs": [
    {
     "data": {
      "text/html": [
       "<div>\n",
       "<table border=\"1\" class=\"dataframe\">\n",
       "  <thead>\n",
       "    <tr style=\"text-align: right;\">\n",
       "      <th></th>\n",
       "      <th>Question</th>\n",
       "      <th>Follows</th>\n",
       "      <th>Answers</th>\n",
       "    </tr>\n",
       "  </thead>\n",
       "  <tbody>\n",
       "    <tr>\n",
       "      <th>0</th>\n",
       "      <td>&lt;h1 class=\"Fz-24 Fw-300 Mb-10\" itemprop=\"name\"...</td>\n",
       "      <td>&lt;span class=\"follow-text\" data-ya-fc=\"1\"&gt;1 fol...</td>\n",
       "      <td>&lt;span class=\"D-n\" itemprop=\"answerCount\"&gt;2&lt;/span&gt;</td>\n",
       "    </tr>\n",
       "    <tr>\n",
       "      <th>1</th>\n",
       "      <td>&lt;h1 class=\"Fz-24 Fw-300 Mb-10\" itemprop=\"name\"...</td>\n",
       "      <td>&lt;span class=\"follow-text\" data-ya-fc=\"0\"&gt;Follo...</td>\n",
       "      <td>&lt;span class=\"D-n ya-q-full-text Ol-n\" tabindex...</td>\n",
       "    </tr>\n",
       "    <tr>\n",
       "      <th>2</th>\n",
       "      <td>&lt;h1 class=\"Fz-24 Fw-300 Mb-10\" itemprop=\"name\"...</td>\n",
       "      <td>&lt;span class=\"follow-text\" data-ya-fc=\"1\"&gt;1 fol...</td>\n",
       "      <td>&lt;span class=\"D-n\" itemprop=\"answerCount\"&gt;8&lt;/span&gt;</td>\n",
       "    </tr>\n",
       "    <tr>\n",
       "      <th>3</th>\n",
       "      <td>&lt;h1 class=\"Fz-24 Fw-300 Mb-10\" itemprop=\"name\"...</td>\n",
       "      <td>&lt;span class=\"follow-text\" data-ya-fc=\"1\"&gt;1 fol...</td>\n",
       "      <td>&lt;span class=\"D-n ya-q-full-text Ol-n\" tabindex...</td>\n",
       "    </tr>\n",
       "    <tr>\n",
       "      <th>4</th>\n",
       "      <td>&lt;h1 class=\"Fz-24 Fw-300 Mb-10\" itemprop=\"name\"...</td>\n",
       "      <td>&lt;span class=\"follow-text\" data-ya-fc=\"0\"&gt;Follo...</td>\n",
       "      <td>&lt;span class=\"D-n ya-q-full-text Ol-n\" tabindex...</td>\n",
       "    </tr>\n",
       "    <tr>\n",
       "      <th>5</th>\n",
       "      <td>&lt;h1 class=\"Fz-24 Fw-300 Mb-10\" itemprop=\"name\"...</td>\n",
       "      <td>&lt;span class=\"follow-text\" data-ya-fc=\"0\"&gt;Follo...</td>\n",
       "      <td>&lt;span class=\"D-n\" itemprop=\"answerCount\"&gt;13&lt;/s...</td>\n",
       "    </tr>\n",
       "    <tr>\n",
       "      <th>6</th>\n",
       "      <td>&lt;h1 class=\"Fz-24 Fw-300 Mb-10\" itemprop=\"name\"...</td>\n",
       "      <td>&lt;span class=\"follow-text\" data-ya-fc=\"5\"&gt;5 fol...</td>\n",
       "      <td>&lt;span class=\"D-n\" itemprop=\"answerCount\"&gt;37&lt;/s...</td>\n",
       "    </tr>\n",
       "    <tr>\n",
       "      <th>7</th>\n",
       "      <td>&lt;h1 class=\"Fz-24 Fw-300 Mb-10\" itemprop=\"name\"...</td>\n",
       "      <td>&lt;span class=\"follow-text\" data-ya-fc=\"0\"&gt;Follo...</td>\n",
       "      <td>&lt;span class=\"D-n ya-q-full-text Ol-n\" tabindex...</td>\n",
       "    </tr>\n",
       "    <tr>\n",
       "      <th>8</th>\n",
       "      <td>&lt;h1 class=\"Fz-24 Fw-300 Mb-10\" itemprop=\"name\"...</td>\n",
       "      <td>&lt;span class=\"follow-text\" data-ya-fc=\"0\"&gt;Follo...</td>\n",
       "      <td>&lt;span class=\"D-n\" itemprop=\"answerCount\"&gt;4&lt;/span&gt;</td>\n",
       "    </tr>\n",
       "    <tr>\n",
       "      <th>9</th>\n",
       "      <td>&lt;h1 class=\"Fz-24 Fw-300 Mb-10\" itemprop=\"name\"...</td>\n",
       "      <td>&lt;span class=\"follow-text\" data-ya-fc=\"0\"&gt;Follo...</td>\n",
       "      <td>&lt;span class=\"D-n ya-q-full-text Ol-n\" tabindex...</td>\n",
       "    </tr>\n",
       "    <tr>\n",
       "      <th>10</th>\n",
       "      <td>&lt;h1 class=\"Fz-24 Fw-300 Mb-10\" itemprop=\"name\"...</td>\n",
       "      <td>&lt;span class=\"follow-text\" data-ya-fc=\"0\"&gt;Follo...</td>\n",
       "      <td>&lt;span class=\"D-n ya-q-full-text Ol-n\" tabindex...</td>\n",
       "    </tr>\n",
       "    <tr>\n",
       "      <th>11</th>\n",
       "      <td>&lt;h1 class=\"Fz-24 Fw-300 Mb-10\" itemprop=\"name\"...</td>\n",
       "      <td>&lt;span class=\"follow-text\" data-ya-fc=\"0\"&gt;Follo...</td>\n",
       "      <td>&lt;span class=\"D-n\" itemprop=\"answerCount\"&gt;8&lt;/span&gt;</td>\n",
       "    </tr>\n",
       "    <tr>\n",
       "      <th>12</th>\n",
       "      <td>&lt;h1 class=\"Fz-24 Fw-300 Mb-10\" itemprop=\"name\"...</td>\n",
       "      <td>&lt;span class=\"follow-text\" data-ya-fc=\"1\"&gt;1 fol...</td>\n",
       "      <td>&lt;span class=\"D-n\" itemprop=\"answerCount\"&gt;18&lt;/s...</td>\n",
       "    </tr>\n",
       "    <tr>\n",
       "      <th>13</th>\n",
       "      <td>&lt;h1 class=\"Fz-24 Fw-300 Mb-10\" itemprop=\"name\"...</td>\n",
       "      <td>&lt;span class=\"follow-text\" data-ya-fc=\"0\"&gt;Follo...</td>\n",
       "      <td>&lt;span class=\"D-n ya-q-full-text Ol-n\" tabindex...</td>\n",
       "    </tr>\n",
       "    <tr>\n",
       "      <th>14</th>\n",
       "      <td>&lt;h1 class=\"Fz-24 Fw-300 Mb-10\" itemprop=\"name\"...</td>\n",
       "      <td>&lt;span class=\"follow-text\" data-ya-fc=\"0\"&gt;Follo...</td>\n",
       "      <td>&lt;span class=\"D-n ya-q-full-text Ol-n\" tabindex...</td>\n",
       "    </tr>\n",
       "    <tr>\n",
       "      <th>15</th>\n",
       "      <td>&lt;h1 class=\"Fz-24 Fw-300 Mb-10\" itemprop=\"name\"...</td>\n",
       "      <td>&lt;span class=\"follow-text\" data-ya-fc=\"2\"&gt;2 fol...</td>\n",
       "      <td>&lt;span class=\"D-n\" itemprop=\"answerCount\"&gt;14&lt;/s...</td>\n",
       "    </tr>\n",
       "    <tr>\n",
       "      <th>16</th>\n",
       "      <td>&lt;h1 class=\"Fz-24 Fw-300 Mb-10\" itemprop=\"name\"...</td>\n",
       "      <td>&lt;span class=\"follow-text\" data-ya-fc=\"0\"&gt;Follo...</td>\n",
       "      <td>&lt;span class=\"D-n ya-q-full-text Ol-n\" tabindex...</td>\n",
       "    </tr>\n",
       "    <tr>\n",
       "      <th>17</th>\n",
       "      <td>&lt;h1 class=\"Fz-24 Fw-300 Mb-10\" itemprop=\"name\"...</td>\n",
       "      <td>&lt;span class=\"follow-text\" data-ya-fc=\"5\"&gt;5 fol...</td>\n",
       "      <td>&lt;span class=\"D-n ya-q-full-text Ol-n\" tabindex...</td>\n",
       "    </tr>\n",
       "    <tr>\n",
       "      <th>18</th>\n",
       "      <td>&lt;h1 class=\"Fz-24 Fw-300 Mb-10\" itemprop=\"name\"...</td>\n",
       "      <td>&lt;span class=\"follow-text\" data-ya-fc=\"0\"&gt;Follo...</td>\n",
       "      <td>&lt;span class=\"D-n\" itemprop=\"answerCount\"&gt;6&lt;/span&gt;</td>\n",
       "    </tr>\n",
       "    <tr>\n",
       "      <th>19</th>\n",
       "      <td>&lt;h1 class=\"Fz-24 Fw-300 Mb-10\" itemprop=\"name\"...</td>\n",
       "      <td>&lt;span class=\"follow-text\" data-ya-fc=\"0\"&gt;Follo...</td>\n",
       "      <td>&lt;span class=\"D-n ya-q-full-text Ol-n\" tabindex...</td>\n",
       "    </tr>\n",
       "  </tbody>\n",
       "</table>\n",
       "</div>"
      ],
      "text/plain": [
       "                                             Question  \\\n",
       "0   <h1 class=\"Fz-24 Fw-300 Mb-10\" itemprop=\"name\"...   \n",
       "1   <h1 class=\"Fz-24 Fw-300 Mb-10\" itemprop=\"name\"...   \n",
       "2   <h1 class=\"Fz-24 Fw-300 Mb-10\" itemprop=\"name\"...   \n",
       "3   <h1 class=\"Fz-24 Fw-300 Mb-10\" itemprop=\"name\"...   \n",
       "4   <h1 class=\"Fz-24 Fw-300 Mb-10\" itemprop=\"name\"...   \n",
       "5   <h1 class=\"Fz-24 Fw-300 Mb-10\" itemprop=\"name\"...   \n",
       "6   <h1 class=\"Fz-24 Fw-300 Mb-10\" itemprop=\"name\"...   \n",
       "7   <h1 class=\"Fz-24 Fw-300 Mb-10\" itemprop=\"name\"...   \n",
       "8   <h1 class=\"Fz-24 Fw-300 Mb-10\" itemprop=\"name\"...   \n",
       "9   <h1 class=\"Fz-24 Fw-300 Mb-10\" itemprop=\"name\"...   \n",
       "10  <h1 class=\"Fz-24 Fw-300 Mb-10\" itemprop=\"name\"...   \n",
       "11  <h1 class=\"Fz-24 Fw-300 Mb-10\" itemprop=\"name\"...   \n",
       "12  <h1 class=\"Fz-24 Fw-300 Mb-10\" itemprop=\"name\"...   \n",
       "13  <h1 class=\"Fz-24 Fw-300 Mb-10\" itemprop=\"name\"...   \n",
       "14  <h1 class=\"Fz-24 Fw-300 Mb-10\" itemprop=\"name\"...   \n",
       "15  <h1 class=\"Fz-24 Fw-300 Mb-10\" itemprop=\"name\"...   \n",
       "16  <h1 class=\"Fz-24 Fw-300 Mb-10\" itemprop=\"name\"...   \n",
       "17  <h1 class=\"Fz-24 Fw-300 Mb-10\" itemprop=\"name\"...   \n",
       "18  <h1 class=\"Fz-24 Fw-300 Mb-10\" itemprop=\"name\"...   \n",
       "19  <h1 class=\"Fz-24 Fw-300 Mb-10\" itemprop=\"name\"...   \n",
       "\n",
       "                                              Follows  \\\n",
       "0   <span class=\"follow-text\" data-ya-fc=\"1\">1 fol...   \n",
       "1   <span class=\"follow-text\" data-ya-fc=\"0\">Follo...   \n",
       "2   <span class=\"follow-text\" data-ya-fc=\"1\">1 fol...   \n",
       "3   <span class=\"follow-text\" data-ya-fc=\"1\">1 fol...   \n",
       "4   <span class=\"follow-text\" data-ya-fc=\"0\">Follo...   \n",
       "5   <span class=\"follow-text\" data-ya-fc=\"0\">Follo...   \n",
       "6   <span class=\"follow-text\" data-ya-fc=\"5\">5 fol...   \n",
       "7   <span class=\"follow-text\" data-ya-fc=\"0\">Follo...   \n",
       "8   <span class=\"follow-text\" data-ya-fc=\"0\">Follo...   \n",
       "9   <span class=\"follow-text\" data-ya-fc=\"0\">Follo...   \n",
       "10  <span class=\"follow-text\" data-ya-fc=\"0\">Follo...   \n",
       "11  <span class=\"follow-text\" data-ya-fc=\"0\">Follo...   \n",
       "12  <span class=\"follow-text\" data-ya-fc=\"1\">1 fol...   \n",
       "13  <span class=\"follow-text\" data-ya-fc=\"0\">Follo...   \n",
       "14  <span class=\"follow-text\" data-ya-fc=\"0\">Follo...   \n",
       "15  <span class=\"follow-text\" data-ya-fc=\"2\">2 fol...   \n",
       "16  <span class=\"follow-text\" data-ya-fc=\"0\">Follo...   \n",
       "17  <span class=\"follow-text\" data-ya-fc=\"5\">5 fol...   \n",
       "18  <span class=\"follow-text\" data-ya-fc=\"0\">Follo...   \n",
       "19  <span class=\"follow-text\" data-ya-fc=\"0\">Follo...   \n",
       "\n",
       "                                              Answers  \n",
       "0   <span class=\"D-n\" itemprop=\"answerCount\">2</span>  \n",
       "1   <span class=\"D-n ya-q-full-text Ol-n\" tabindex...  \n",
       "2   <span class=\"D-n\" itemprop=\"answerCount\">8</span>  \n",
       "3   <span class=\"D-n ya-q-full-text Ol-n\" tabindex...  \n",
       "4   <span class=\"D-n ya-q-full-text Ol-n\" tabindex...  \n",
       "5   <span class=\"D-n\" itemprop=\"answerCount\">13</s...  \n",
       "6   <span class=\"D-n\" itemprop=\"answerCount\">37</s...  \n",
       "7   <span class=\"D-n ya-q-full-text Ol-n\" tabindex...  \n",
       "8   <span class=\"D-n\" itemprop=\"answerCount\">4</span>  \n",
       "9   <span class=\"D-n ya-q-full-text Ol-n\" tabindex...  \n",
       "10  <span class=\"D-n ya-q-full-text Ol-n\" tabindex...  \n",
       "11  <span class=\"D-n\" itemprop=\"answerCount\">8</span>  \n",
       "12  <span class=\"D-n\" itemprop=\"answerCount\">18</s...  \n",
       "13  <span class=\"D-n ya-q-full-text Ol-n\" tabindex...  \n",
       "14  <span class=\"D-n ya-q-full-text Ol-n\" tabindex...  \n",
       "15  <span class=\"D-n\" itemprop=\"answerCount\">14</s...  \n",
       "16  <span class=\"D-n ya-q-full-text Ol-n\" tabindex...  \n",
       "17  <span class=\"D-n ya-q-full-text Ol-n\" tabindex...  \n",
       "18  <span class=\"D-n\" itemprop=\"answerCount\">6</span>  \n",
       "19  <span class=\"D-n ya-q-full-text Ol-n\" tabindex...  "
      ]
     },
     "execution_count": 18,
     "metadata": {},
     "output_type": "execute_result"
    }
   ],
   "source": [
    "'''\n",
    "use pandas main object the DataFrame to insert all the data and insepct the top 20 rows\n",
    "'''\n",
    "df_questions = pd.DataFrame(questions, columns=['Question', 'Follows', 'Answers'])\n",
    "df_questions.head(20)"
   ]
  },
  {
   "cell_type": "markdown",
   "metadata": {},
   "source": [
    "# Convert strings to ints\n",
    "This could have been done in the loop above, but I wanted to inspect the data first. Lets take a look at the last character of the follows column"
   ]
  },
  {
   "cell_type": "code",
   "execution_count": null,
   "metadata": {
    "collapsed": false
   },
   "outputs": [],
   "source": [
    "'''\n",
    "Look at frequency of occurence of last character in follows column\n",
    "'''\n",
    "df_questions['Follows'].str.get(-1).value_counts()"
   ]
  },
  {
   "cell_type": "code",
   "execution_count": null,
   "metadata": {
    "collapsed": false
   },
   "outputs": [],
   "source": [
    "'''\n",
    "They are all numbers except for 'k'\n",
    "\n",
    "This line might be hard to follow but basically...\n",
    "it multiplies the number by 1000 if it ends in k else just makes it an int\n",
    "and reassigns it to the same column\n",
    "'''\n",
    "df_questions['Follows'] = df_questions['Follows'].map(lambda x: int(float(x[:-1]) * 1000) if x[-1] == 'k' else int(x))"
   ]
  },
  {
   "cell_type": "code",
   "execution_count": null,
   "metadata": {
    "collapsed": false
   },
   "outputs": [],
   "source": [
    "'''\n",
    "Lets do same thing for Answers column\n",
    "'''\n",
    "df_questions['Answers'].str.get(-1).value_counts()"
   ]
  },
  {
   "cell_type": "code",
   "execution_count": null,
   "metadata": {
    "collapsed": false
   },
   "outputs": [],
   "source": [
    "'''\n",
    "Just the + sign is the only non-numeric\n",
    "\n",
    "Lets take a look at those\n",
    "'''\n",
    "df_questions[df_questions['Answers'].map(lambda x: '+' in x)]"
   ]
  },
  {
   "cell_type": "code",
   "execution_count": null,
   "metadata": {
    "collapsed": false
   },
   "outputs": [],
   "source": [
    "'''\n",
    "Looks like number of answres stops at 100\n",
    "\n",
    "Make conversion\n",
    "'''\n",
    "df_questions['Answers'] = df_questions['Answers'].map(lambda x: 100 if '+' in x else int(x))"
   ]
  },
  {
   "cell_type": "code",
   "execution_count": null,
   "metadata": {
    "collapsed": false
   },
   "outputs": [],
   "source": [
    "'''\n",
    "Inspect data after transformation\n",
    "'''\n",
    "df_questions.head(20)"
   ]
  },
  {
   "cell_type": "code",
   "execution_count": null,
   "metadata": {
    "collapsed": false
   },
   "outputs": [],
   "source": [
    "'''\n",
    "Sort by most follows\n",
    "'''\n",
    "pd.options.display.max_colwidth = 150\n",
    "df_questions.sort_values('Follows', ascending=False, inplace=True)\n",
    "df_questions.head(20)"
   ]
  },
  {
   "cell_type": "code",
   "execution_count": null,
   "metadata": {
    "collapsed": true
   },
   "outputs": [],
   "source": [
    "'''\n",
    "Convert to csv\n",
    "'''\n",
    "df_questions.to_csv('questions.csv', index=False)"
   ]
  },
  {
   "cell_type": "code",
   "execution_count": null,
   "metadata": {
    "collapsed": true
   },
   "outputs": [],
   "source": []
  }
 ],
 "metadata": {
  "kernelspec": {
   "display_name": "Python 3",
   "language": "python",
   "name": "python3"
  },
  "language_info": {
   "codemirror_mode": {
    "name": "ipython",
    "version": 3
   },
   "file_extension": ".py",
   "mimetype": "text/x-python",
   "name": "python",
   "nbconvert_exporter": "python",
   "pygments_lexer": "ipython3",
   "version": "3.5.1"
  }
 },
 "nbformat": 4,
 "nbformat_minor": 0
}
