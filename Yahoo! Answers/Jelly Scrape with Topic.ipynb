{
 "cells": [
  {
   "cell_type": "code",
   "execution_count": 1,
   "metadata": {
    "collapsed": true
   },
   "outputs": [],
   "source": [
    "import json\n",
    "from bs4 import BeautifulSoup\n",
    "import pandas as pd\n",
    "from selenium import webdriver\n",
    "from selenium.webdriver.common.keys import Keys\n",
    "from GoogleScraper import scrape_with_config, GoogleSearchError\n",
    "from GoogleScraper.database import ScraperSearch, SERP, Link\n",
    "import requests\n",
    "import time"
   ]
  },
  {
   "cell_type": "markdown",
   "metadata": {
    "raw_mimetype": "text/markdown"
   },
   "source": [
    "# 1. Configure Google Search"
   ]
  },
  {
   "cell_type": "code",
   "execution_count": 2,
   "metadata": {
    "collapsed": false
   },
   "outputs": [],
   "source": [
    "config = {\n",
    "    'keyword': 'should site:askjelly.com',\n",
    "    'num_pages_for_keyword': 100,\n",
    "    'scrape_method': 'http',\n",
    "    'do_caching': True,\n",
    "    'output_filename': 'Results/google.json',\n",
    "    'google_search_params': {'cr': 'countryUS'}\n",
    "}"
   ]
  },
  {
   "cell_type": "markdown",
   "metadata": {},
   "source": [
    "# 2. Get Google Results"
   ]
  },
  {
   "cell_type": "code",
   "execution_count": 3,
   "metadata": {
    "collapsed": false
   },
   "outputs": [],
   "source": [
    "try:\n",
    "    search = scrape_with_config(config)\n",
    "except GoogleSearchError as e:\n",
    "    print(e)"
   ]
  },
  {
   "cell_type": "markdown",
   "metadata": {},
   "source": [
    "# 3. Extract Links"
   ]
  },
  {
   "cell_type": "code",
   "execution_count": 4,
   "metadata": {
    "collapsed": false
   },
   "outputs": [],
   "source": [
    "links = []\n",
    "for serp in search.serps:\n",
    "    for link in serp.links:\n",
    "        if link.link.startswith('https://askjelly.com'):\n",
    "            links.append(link.link.strip())"
   ]
  },
  {
   "cell_type": "code",
   "execution_count": 5,
   "metadata": {
    "collapsed": false
   },
   "outputs": [],
   "source": [
    "#response = requests.get(links[0])\n",
    "#f = open('response_test.txt','w')\n",
    "#f.write(response.text)\n",
    "#f.close()\n",
    "#print(response.text)"
   ]
  },
  {
   "cell_type": "markdown",
   "metadata": {},
   "source": [
    "# 4. Scrape Links"
   ]
  },
  {
   "cell_type": "code",
   "execution_count": null,
   "metadata": {
    "collapsed": false
   },
   "outputs": [],
   "source": [
    "scrape = []\n",
    "for link in links:\n",
    "    response = requests.get(link)\n",
    "    soup = BeautifulSoup(response.text, 'html.parser')\n",
    "    question_f = soup.find(\"h2\", {\"data-reactid\", \"40\"})\n",
    "    answers_f = soup.find(\"div\", { \"class\", \"Question__answerCount___a5gPo type__subtitle___2S0EB\"})\n",
    "    topic_f = soup.find(\"div\", {\"class\", \"TopicPill__pill___XAbgr\" })\n",
    "    \n",
    "    if question_f is not None:\n",
    "        question = question_f.text\n",
    "        topic = topic_f.text\n",
    "        answers = -1\n",
    "        if answers_f is not None:\n",
    "            answers = answers_f.text\n",
    "        \n",
    "        scrape.append([link, question.strip(), answers, topic.strip()])\n",
    "    else:\n",
    "        scrape.append([link, None, None, None])\n",
    "        "
   ]
  },
  {
   "cell_type": "markdown",
   "metadata": {},
   "source": [
    "# 5. Output Results as CSV"
   ]
  },
  {
   "cell_type": "code",
   "execution_count": 7,
   "metadata": {
    "collapsed": false
   },
   "outputs": [],
   "source": [
    "scrapeDF = pd.DataFrame(scrape, columns=['Link', 'Question', 'Answers', 'Topic'])\n",
    "scrapeDF.to_csv('Results/Jelly Scrape Results_Should w Topic' + time.strftime(\"%Y%m%d-%H%M%S\") + '.csv', index=False)"
   ]
  },
  {
   "cell_type": "markdown",
   "metadata": {},
   "source": [
    "# END"
   ]
  },
  {
   "cell_type": "code",
   "execution_count": null,
   "metadata": {
    "collapsed": true
   },
   "outputs": [],
   "source": []
  }
 ],
 "metadata": {
  "anaconda-cloud": {},
  "celltoolbar": "Raw Cell Format",
  "kernelspec": {
   "display_name": "Python [Root]",
   "language": "python",
   "name": "Python [Root]"
  },
  "language_info": {
   "codemirror_mode": {
    "name": "ipython",
    "version": 3
   },
   "file_extension": ".py",
   "mimetype": "text/x-python",
   "name": "python",
   "nbconvert_exporter": "python",
   "pygments_lexer": "ipython3",
   "version": "3.5.1"
  }
 },
 "nbformat": 4,
 "nbformat_minor": 0
}
